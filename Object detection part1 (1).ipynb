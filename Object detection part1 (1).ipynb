{
 "cells": [
  {
   "cell_type": "code",
   "execution_count": 11,
   "id": "0866440c",
   "metadata": {},
   "outputs": [
    {
     "name": "stdout",
     "output_type": "stream",
     "text": [
      "Collecting virtualenv\n",
      "  Downloading virtualenv-20.17.1-py3-none-any.whl (8.8 MB)\n",
      "Collecting distlib<1,>=0.3.6\n",
      "  Downloading distlib-0.3.6-py2.py3-none-any.whl (468 kB)\n",
      "Requirement already satisfied: filelock<4,>=3.4.1 in c:\\users\\shriniwas\\anaconda3\\lib\\site-packages (from virtualenv) (3.6.0)\n",
      "Collecting platformdirs<3,>=2.4\n",
      "  Using cached platformdirs-2.6.2-py3-none-any.whl (14 kB)\n",
      "Installing collected packages: platformdirs, distlib, virtualenv\n",
      "Successfully installed distlib-0.3.6 platformdirs-2.6.2 virtualenv-20.17.1\n"
     ]
    }
   ],
   "source": [
    "!pip install virtualenv"
   ]
  },
  {
   "cell_type": "code",
   "execution_count": 21,
   "id": "6b7f02bb",
   "metadata": {},
   "outputs": [
    {
     "name": "stdout",
     "output_type": "stream",
     "text": [
      "Requirement already satisfied: pip in c:\\users\\shriniwas\\anaconda3\\lib\\site-packages (21.2.4)\n",
      "Collecting pip\n",
      "  Downloading pip-22.3.1-py3-none-any.whl (2.1 MB)\n",
      "Installing collected packages: pip\n",
      "  Attempting uninstall: pip\n",
      "    Found existing installation: pip 21.2.4\n",
      "    Uninstalling pip-21.2.4:\n",
      "      Successfully uninstalled pip-21.2.4\n",
      "Successfully installed pip-22.3.1\n"
     ]
    }
   ],
   "source": [
    "!pip install --upgrade pip\n",
    "#!pip install ipykernel\n",
    "#!ipykernel install --user --name=tfodj"
   ]
  },
  {
   "cell_type": "code",
   "execution_count": 22,
   "id": "cfddf437",
   "metadata": {},
   "outputs": [
    {
     "name": "stdout",
     "output_type": "stream",
     "text": [
      "Requirement already satisfied: ipykernel in c:\\users\\shriniwas\\anaconda3\\lib\\site-packages (6.9.1)\n",
      "Requirement already satisfied: nest-asyncio in c:\\users\\shriniwas\\anaconda3\\lib\\site-packages (from ipykernel) (1.5.5)\n",
      "Requirement already satisfied: traitlets<6.0,>=5.1.0 in c:\\users\\shriniwas\\anaconda3\\lib\\site-packages (from ipykernel) (5.1.1)\n",
      "Requirement already satisfied: jupyter-client<8.0 in c:\\users\\shriniwas\\anaconda3\\lib\\site-packages (from ipykernel) (6.1.12)\n",
      "Requirement already satisfied: tornado<7.0,>=4.2 in c:\\users\\shriniwas\\anaconda3\\lib\\site-packages (from ipykernel) (6.1)\n",
      "Requirement already satisfied: debugpy<2.0,>=1.0.0 in c:\\users\\shriniwas\\anaconda3\\lib\\site-packages (from ipykernel) (1.5.1)\n",
      "Requirement already satisfied: matplotlib-inline<0.2.0,>=0.1.0 in c:\\users\\shriniwas\\anaconda3\\lib\\site-packages (from ipykernel) (0.1.2)\n",
      "Requirement already satisfied: ipython>=7.23.1 in c:\\users\\shriniwas\\anaconda3\\lib\\site-packages (from ipykernel) (8.2.0)\n",
      "Requirement already satisfied: jedi>=0.16 in c:\\users\\shriniwas\\anaconda3\\lib\\site-packages (from ipython>=7.23.1->ipykernel) (0.18.1)\n",
      "Requirement already satisfied: backcall in c:\\users\\shriniwas\\anaconda3\\lib\\site-packages (from ipython>=7.23.1->ipykernel) (0.2.0)\n",
      "Requirement already satisfied: decorator in c:\\users\\shriniwas\\anaconda3\\lib\\site-packages (from ipython>=7.23.1->ipykernel) (5.1.1)\n",
      "Requirement already satisfied: prompt-toolkit!=3.0.0,!=3.0.1,<3.1.0,>=2.0.0 in c:\\users\\shriniwas\\anaconda3\\lib\\site-packages (from ipython>=7.23.1->ipykernel) (3.0.20)\n",
      "Requirement already satisfied: pygments>=2.4.0 in c:\\users\\shriniwas\\anaconda3\\lib\\site-packages (from ipython>=7.23.1->ipykernel) (2.11.2)\n",
      "Requirement already satisfied: colorama in c:\\users\\shriniwas\\anaconda3\\lib\\site-packages (from ipython>=7.23.1->ipykernel) (0.4.4)\n",
      "Requirement already satisfied: stack-data in c:\\users\\shriniwas\\anaconda3\\lib\\site-packages (from ipython>=7.23.1->ipykernel) (0.2.0)\n",
      "Requirement already satisfied: setuptools>=18.5 in c:\\users\\shriniwas\\anaconda3\\lib\\site-packages (from ipython>=7.23.1->ipykernel) (61.2.0)\n",
      "Requirement already satisfied: pickleshare in c:\\users\\shriniwas\\anaconda3\\lib\\site-packages (from ipython>=7.23.1->ipykernel) (0.7.5)\n",
      "Requirement already satisfied: pyzmq>=13 in c:\\users\\shriniwas\\anaconda3\\lib\\site-packages (from jupyter-client<8.0->ipykernel) (22.3.0)\n",
      "Requirement already satisfied: jupyter-core>=4.6.0 in c:\\users\\shriniwas\\anaconda3\\lib\\site-packages (from jupyter-client<8.0->ipykernel) (4.9.2)\n",
      "Requirement already satisfied: python-dateutil>=2.1 in c:\\users\\shriniwas\\anaconda3\\lib\\site-packages (from jupyter-client<8.0->ipykernel) (2.8.2)\n",
      "Requirement already satisfied: parso<0.9.0,>=0.8.0 in c:\\users\\shriniwas\\anaconda3\\lib\\site-packages (from jedi>=0.16->ipython>=7.23.1->ipykernel) (0.8.3)\n",
      "Requirement already satisfied: pywin32>=1.0 in c:\\users\\shriniwas\\anaconda3\\lib\\site-packages (from jupyter-core>=4.6.0->jupyter-client<8.0->ipykernel) (302)\n",
      "Requirement already satisfied: wcwidth in c:\\users\\shriniwas\\anaconda3\\lib\\site-packages (from prompt-toolkit!=3.0.0,!=3.0.1,<3.1.0,>=2.0.0->ipython>=7.23.1->ipykernel) (0.2.5)\n",
      "Requirement already satisfied: six>=1.5 in c:\\users\\shriniwas\\anaconda3\\lib\\site-packages (from python-dateutil>=2.1->jupyter-client<8.0->ipykernel) (1.16.0)\n",
      "Requirement already satisfied: asttokens in c:\\users\\shriniwas\\anaconda3\\lib\\site-packages (from stack-data->ipython>=7.23.1->ipykernel) (2.0.5)\n",
      "Requirement already satisfied: pure-eval in c:\\users\\shriniwas\\anaconda3\\lib\\site-packages (from stack-data->ipython>=7.23.1->ipykernel) (0.2.2)\n",
      "Requirement already satisfied: executing in c:\\users\\shriniwas\\anaconda3\\lib\\site-packages (from stack-data->ipython>=7.23.1->ipykernel) (0.8.3)\n"
     ]
    }
   ],
   "source": [
    "!pip install ipykernel"
   ]
  },
  {
   "cell_type": "code",
   "execution_count": 1,
   "id": "9482401b",
   "metadata": {},
   "outputs": [],
   "source": [
    "# Import opencv\n",
    "import cv2 \n",
    "\n",
    "# Import uuid\n",
    "import uuid\n",
    "\n",
    "# Import Operating System\n",
    "import os\n",
    "\n",
    "# Import time\n",
    "import time"
   ]
  },
  {
   "cell_type": "code",
   "execution_count": 2,
   "id": "3c31a7cf",
   "metadata": {},
   "outputs": [],
   "source": [
    "labels = ['thumbsup', 'thumbsdown', 'thankyou', 'livelong']\n",
    "number_imgs = 5"
   ]
  },
  {
   "cell_type": "code",
   "execution_count": 3,
   "id": "df2edb16",
   "metadata": {},
   "outputs": [],
   "source": [
    "IMAGES_PATH = os.path.join('Tensorflow', 'workspace', 'images', 'collectedimages')"
   ]
  },
  {
   "cell_type": "code",
   "execution_count": 4,
   "id": "4529ab41",
   "metadata": {},
   "outputs": [],
   "source": [
    "if not os.path.exists(IMAGES_PATH):\n",
    "    if os.name == 'nt':\n",
    "         !mkdir {IMAGES_PATH}\n",
    "for label in labels:\n",
    "    path = os.path.join(IMAGES_PATH, label)\n",
    "    if not os.path.exists(path):\n",
    "        !mkdir {path}"
   ]
  },
  {
   "cell_type": "code",
   "execution_count": 7,
   "id": "67ffd592",
   "metadata": {},
   "outputs": [
    {
     "name": "stdout",
     "output_type": "stream",
     "text": [
      "Collecting images for thumbsup\n",
      "Collecting image 0\n",
      "Collecting image 1\n",
      "Collecting image 2\n",
      "Collecting image 3\n",
      "Collecting image 4\n",
      "Collecting images for thumbsdown\n",
      "Collecting image 0\n",
      "Collecting image 1\n",
      "Collecting image 2\n",
      "Collecting image 3\n",
      "Collecting image 4\n",
      "Collecting images for thankyou\n",
      "Collecting image 0\n",
      "Collecting image 1\n",
      "Collecting image 2\n",
      "Collecting image 3\n",
      "Collecting image 4\n",
      "Collecting images for livelong\n",
      "Collecting image 0\n",
      "Collecting image 1\n",
      "Collecting image 2\n",
      "Collecting image 3\n",
      "Collecting image 4\n"
     ]
    }
   ],
   "source": [
    "for label in labels:\n",
    "    cap = cv2.VideoCapture(0)\n",
    "    print('Collecting images for {}'.format(label))\n",
    "    time.sleep(5)\n",
    "    for imgnum in range(number_imgs):\n",
    "        print('Collecting image {}'.format(imgnum))\n",
    "        ret, frame = cap.read()\n",
    "        imgname = os.path.join(IMAGES_PATH,label,label+'.'+'{}.jpg'.format(str(uuid.uuid1())))\n",
    "        cv2.imwrite(imgname, frame)\n",
    "        cv2.imshow('frame', frame)\n",
    "        time.sleep(2)\n",
    "\n",
    "        if cv2.waitKey(1) & 0xFF == ord('q'):\n",
    "            break\n",
    "cap.release()\n",
    "cv2.destroyAllWindows()"
   ]
  },
  {
   "cell_type": "code",
   "execution_count": 5,
   "id": "496fa112",
   "metadata": {},
   "outputs": [
    {
     "name": "stdout",
     "output_type": "stream",
     "text": [
      "Collecting pyqt5\n",
      "  Downloading PyQt5-5.15.7-cp37-abi3-win_amd64.whl (6.8 MB)\n",
      "     ---------------------------------------- 6.8/6.8 MB 8.9 MB/s eta 0:00:00\n",
      "Requirement already satisfied: lxml in c:\\users\\shriniwas\\anaconda3\\lib\\site-packages (4.8.0)\n",
      "Collecting lxml\n",
      "  Downloading lxml-4.9.2-cp39-cp39-win_amd64.whl (3.9 MB)\n",
      "     ---------------------------------------- 3.9/3.9 MB 9.6 MB/s eta 0:00:00\n",
      "Collecting PyQt5-Qt5>=5.15.0\n",
      "  Downloading PyQt5_Qt5-5.15.2-py3-none-win_amd64.whl (50.1 MB)\n",
      "     --------------------------------------- 50.1/50.1 MB 10.1 MB/s eta 0:00:00\n",
      "Collecting PyQt5-sip<13,>=12.11\n",
      "  Downloading PyQt5_sip-12.11.0-cp39-cp39-win_amd64.whl (78 kB)\n",
      "     ---------------------------------------- 78.3/78.3 kB 4.3 MB/s eta 0:00:00\n",
      "Installing collected packages: PyQt5-Qt5, PyQt5-sip, lxml, pyqt5\n",
      "  Attempting uninstall: lxml\n",
      "    Found existing installation: lxml 4.8.0\n",
      "    Uninstalling lxml-4.8.0:\n",
      "      Successfully uninstalled lxml-4.8.0\n",
      "Successfully installed PyQt5-Qt5-5.15.2 PyQt5-sip-12.11.0 lxml-4.9.2 pyqt5-5.15.7\n"
     ]
    },
    {
     "name": "stderr",
     "output_type": "stream",
     "text": [
      "ERROR: pip's dependency resolver does not currently take into account all the packages that are installed. This behaviour is the source of the following dependency conflicts.\n",
      "spyder 5.1.5 requires pyqtwebengine<5.13, which is not installed.\n",
      "spyder 5.1.5 requires pyqt5<5.13, but you have pyqt5 5.15.7 which is incompatible.\n"
     ]
    }
   ],
   "source": [
    "!pip install --upgrade pyqt5 lxml"
   ]
  },
  {
   "cell_type": "code",
   "execution_count": 6,
   "id": "47ea8bdd",
   "metadata": {},
   "outputs": [],
   "source": [
    "LABELIMG_PATH = os.path.join('Tensorflow', 'labelimg')"
   ]
  },
  {
   "cell_type": "code",
   "execution_count": 7,
   "id": "d84d6045",
   "metadata": {},
   "outputs": [
    {
     "name": "stderr",
     "output_type": "stream",
     "text": [
      "'git' is not recognized as an internal or external command,\n",
      "operable program or batch file.\n"
     ]
    }
   ],
   "source": [
    "if not os.path.exists(LABELIMG_PATH):\n",
    "    !mkdir {LABELIMG_PATH}\n",
    "    !git clone https://github.com/tzutalin/labelImg {LABELIMG_PATH}"
   ]
  },
  {
   "cell_type": "code",
   "execution_count": 9,
   "id": "847ccc02",
   "metadata": {},
   "outputs": [],
   "source": [
    "LABELIMG_PATH='C:\\\\Users\\\\Shriniwas\\\\Desktop\\\\Face recog project\\\\Tensorflow\\\\labelImg'"
   ]
  },
  {
   "cell_type": "code",
   "execution_count": 10,
   "id": "3556dbbc",
   "metadata": {},
   "outputs": [],
   "source": [
    "if os.name == 'posix':\n",
    "    !make qt5py3\n",
    "if os.name =='nt':\n",
    "    !cd {LABELIMG_PATH} && pyrcc5 -o libs/resources.py resources.qrc"
   ]
  },
  {
   "cell_type": "code",
   "execution_count": 11,
   "id": "54698a17",
   "metadata": {},
   "outputs": [
    {
     "name": "stdout",
     "output_type": "stream",
     "text": [
      "Cancel creation.\n",
      "Cancel creation.\n",
      "Cancel creation.\n",
      "Cancel creation.\n",
      "Image:C:\\Users\\Shriniwas\\Desktop\\Face recog project\\Tensorflow\\workspace\\images\\collectedimages\\livelong\\livelong.8e4bfb7f-9bf8-11ed-8d18-e20150729be6.jpg -> Annotation:C:/Users/Shriniwas/Desktop/Face recog project/Tensorflow/workspace/images/collectedimages/livelong\\livelong.8e4bfb7f-9bf8-11ed-8d18-e20150729be6.xml\n",
      "Image:C:\\Users\\Shriniwas\\Desktop\\Face recog project\\Tensorflow\\workspace\\images\\collectedimages\\livelong\\livelong.8e4bfb7f-9bf8-11ed-8d18-e20150729be6.jpg -> Annotation:C:/Users/Shriniwas/Desktop/Face recog project/Tensorflow/workspace/images/collectedimages/livelong/livelong.8e4bfb7f-9bf8-11ed-8d18-e20150729be6.xml\n",
      "Image:C:\\Users\\Shriniwas\\Desktop\\Face recog project\\Tensorflow\\workspace\\images\\collectedimages\\livelong\\livelong.8f81e0f9-9bf8-11ed-a14f-e20150729be6.jpg -> Annotation:C:/Users/Shriniwas/Desktop/Face recog project/Tensorflow/workspace/images/collectedimages/livelong\\livelong.8f81e0f9-9bf8-11ed-a14f-e20150729be6.xml\n",
      "Image:C:\\Users\\Shriniwas\\Desktop\\Face recog project\\Tensorflow\\workspace\\images\\collectedimages\\livelong\\livelong.8f81e0f9-9bf8-11ed-a14f-e20150729be6.jpg -> Annotation:C:/Users/Shriniwas/Desktop/Face recog project/Tensorflow/workspace/images/collectedimages/livelong/livelong.8f81e0f9-9bf8-11ed-a14f-e20150729be6.xml\n",
      "Image:C:\\Users\\Shriniwas\\Desktop\\Face recog project\\Tensorflow\\workspace\\images\\collectedimages\\livelong\\livelong.90b4bbb8-9bf8-11ed-adb1-e20150729be6.jpg -> Annotation:C:/Users/Shriniwas/Desktop/Face recog project/Tensorflow/workspace/images/collectedimages/livelong\\livelong.90b4bbb8-9bf8-11ed-adb1-e20150729be6.xml\n",
      "Cancel creation.\n",
      "Cancel creation.\n",
      "Cancel creation.\n",
      "Image:C:\\Users\\Shriniwas\\Desktop\\Face recog project\\Tensorflow\\workspace\\images\\collectedimages\\livelong\\livelong.91e9ceb0-9bf8-11ed-a775-e20150729be6.jpg -> Annotation:C:/Users/Shriniwas/Desktop/Face recog project/Tensorflow/workspace/images/collectedimages/livelong\\livelong.91e9ceb0-9bf8-11ed-a775-e20150729be6.xml\n",
      "Cancel creation.\n",
      "Image:C:\\Users\\Shriniwas\\Desktop\\Face recog project\\Tensorflow\\workspace\\images\\collectedimages\\livelong\\livelong.931fbe62-9bf8-11ed-aee0-e20150729be6.jpg -> Annotation:C:/Users/Shriniwas/Desktop/Face recog project/Tensorflow/workspace/images/collectedimages/livelong\\livelong.931fbe62-9bf8-11ed-aee0-e20150729be6.xml\n",
      "Image:C:\\Users\\Shriniwas\\Desktop\\Face recog project\\Tensorflow\\workspace\\images\\collectedimages\\thankyou\\thankyou.83fa59ee-9bf8-11ed-bc8d-e20150729be6.jpg -> Annotation:C:/Users/Shriniwas/Desktop/Face recog project/Tensorflow/workspace/images/collectedimages/thankyou\\thankyou.83fa59ee-9bf8-11ed-bc8d-e20150729be6.xml\n",
      "Cancel creation.\n",
      "Cancel creation.\n",
      "Image:C:\\Users\\Shriniwas\\Desktop\\Face recog project\\Tensorflow\\workspace\\images\\collectedimages\\thankyou\\thankyou.852d9aa9-9bf8-11ed-bd72-e20150729be6.jpg -> Annotation:C:/Users/Shriniwas/Desktop/Face recog project/Tensorflow/workspace/images/collectedimages/thankyou\\thankyou.852d9aa9-9bf8-11ed-bd72-e20150729be6.xml\n",
      "Image:C:\\Users\\Shriniwas\\Desktop\\Face recog project\\Tensorflow\\workspace\\images\\collectedimages\\thankyou\\thankyou.879ec178-9bf8-11ed-87e4-e20150729be6.jpg -> Annotation:C:/Users/Shriniwas/Desktop/Face recog project/Tensorflow/workspace/images/collectedimages/thankyou\\thankyou.879ec178-9bf8-11ed-87e4-e20150729be6.xml\n",
      "Image:C:\\Users\\Shriniwas\\Desktop\\Face recog project\\Tensorflow\\workspace\\images\\collectedimages\\thankyou\\thankyou.86696e5a-9bf8-11ed-85e4-e20150729be6.jpg -> Annotation:C:/Users/Shriniwas/Desktop/Face recog project/Tensorflow/workspace/images/collectedimages/thankyou\\thankyou.86696e5a-9bf8-11ed-85e4-e20150729be6.xml\n",
      "Cancel creation.\n",
      "Image:C:\\Users\\Shriniwas\\Desktop\\Face recog project\\Tensorflow\\workspace\\images\\collectedimages\\thumbsdown\\thumbsdown.7adb1c57-9bf8-11ed-a805-e20150729be6.jpg -> Annotation:C:/Users/Shriniwas/Desktop/Face recog project/Tensorflow/workspace/images/collectedimages/thumbsdown\\thumbsdown.7adb1c57-9bf8-11ed-a805-e20150729be6.xml\n",
      "Image:C:\\Users\\Shriniwas\\Desktop\\Face recog project\\Tensorflow\\workspace\\images\\collectedimages\\thumbsdown\\thumbsdown.7c112c13-9bf8-11ed-b042-e20150729be6.jpg -> Annotation:C:/Users/Shriniwas/Desktop/Face recog project/Tensorflow/workspace/images/collectedimages/thumbsdown\\thumbsdown.7c112c13-9bf8-11ed-b042-e20150729be6.xml\n",
      "Image:C:\\Users\\Shriniwas\\Desktop\\Face recog project\\Tensorflow\\workspace\\images\\collectedimages\\thumbsdown\\thumbsdown.79a52aee-9bf8-11ed-93fe-e20150729be6.jpg -> Annotation:C:/Users/Shriniwas/Desktop/Face recog project/Tensorflow/workspace/images/collectedimages/thumbsdown\\thumbsdown.79a52aee-9bf8-11ed-93fe-e20150729be6.xml\n",
      "Image:C:\\Users\\Shriniwas\\Desktop\\Face recog project\\Tensorflow\\workspace\\images\\collectedimages\\thumbsdown\\thumbsdown.786a6b99-9bf8-11ed-8807-e20150729be6.jpg -> Annotation:C:/Users/Shriniwas/Desktop/Face recog project/Tensorflow/workspace/images/collectedimages/thumbsdown\\thumbsdown.786a6b99-9bf8-11ed-8807-e20150729be6.xml\n",
      "Image:C:\\Users\\Shriniwas\\Desktop\\Face recog project\\Tensorflow\\workspace\\images\\collectedimages\\thumbsdown\\thumbsdown.773267f4-9bf8-11ed-b38d-e20150729be6.jpg -> Annotation:C:/Users/Shriniwas/Desktop/Face recog project/Tensorflow/workspace/images/collectedimages/thumbsdown\\thumbsdown.773267f4-9bf8-11ed-b38d-e20150729be6.xml\n",
      "Image:C:\\Users\\Shriniwas\\Desktop\\Face recog project\\Tensorflow\\workspace\\images\\collectedimages\\thumbsup\\thumbsup.6ce179b0-9bf8-11ed-8033-e20150729be6 (1).jpg -> Annotation:C:/Users/Shriniwas/Desktop/Face recog project/Tensorflow/workspace/images/collectedimages/thumbsup\\thumbsup.6ce179b0-9bf8-11ed-8033-e20150729be6 (1).xml\n",
      "Image:C:\\Users\\Shriniwas\\Desktop\\Face recog project\\Tensorflow\\workspace\\images\\collectedimages\\thumbsup\\thumbsup.6ce179b0-9bf8-11ed-8033-e20150729be6.jpg -> Annotation:C:/Users/Shriniwas/Desktop/Face recog project/Tensorflow/workspace/images/collectedimages/thumbsup\\thumbsup.6ce179b0-9bf8-11ed-8033-e20150729be6.xml\n",
      "Image:C:\\Users\\Shriniwas\\Desktop\\Face recog project\\Tensorflow\\workspace\\images\\collectedimages\\thumbsup\\thumbsup.6e15671d-9bf8-11ed-b6dd-e20150729be6.jpg -> Annotation:C:/Users/Shriniwas/Desktop/Face recog project/Tensorflow/workspace/images/collectedimages/thumbsup\\thumbsup.6e15671d-9bf8-11ed-b6dd-e20150729be6.xml\n",
      "Cancel creation.\n",
      "Image:C:\\Users\\Shriniwas\\Desktop\\Face recog project\\Tensorflow\\workspace\\images\\collectedimages\\thumbsup\\thumbsup.6f491070-9bf8-11ed-8f27-e20150729be6.jpg -> Annotation:C:/Users/Shriniwas/Desktop/Face recog project/Tensorflow/workspace/images/collectedimages/thumbsup\\thumbsup.6f491070-9bf8-11ed-8f27-e20150729be6.xml\n",
      "Image:C:\\Users\\Shriniwas\\Desktop\\Face recog project\\Tensorflow\\workspace\\images\\collectedimages\\thumbsup\\thumbsup.707f1bea-9bf8-11ed-8d3d-e20150729be6.jpg -> Annotation:C:/Users/Shriniwas/Desktop/Face recog project/Tensorflow/workspace/images/collectedimages/thumbsup\\thumbsup.707f1bea-9bf8-11ed-8d3d-e20150729be6.xml\n"
     ]
    }
   ],
   "source": [
    "!cd {LABELIMG_PATH} && python labelImg.py"
   ]
  },
  {
   "cell_type": "code",
   "execution_count": null,
   "id": "15e456a5",
   "metadata": {},
   "outputs": [],
   "source": []
  },
  {
   "cell_type": "code",
   "execution_count": null,
   "id": "b9ff736d",
   "metadata": {},
   "outputs": [],
   "source": []
  }
 ],
 "metadata": {
  "kernelspec": {
   "display_name": "env",
   "language": "python",
   "name": "env"
  },
  "language_info": {
   "codemirror_mode": {
    "name": "ipython",
    "version": 3
   },
   "file_extension": ".py",
   "mimetype": "text/x-python",
   "name": "python",
   "nbconvert_exporter": "python",
   "pygments_lexer": "ipython3",
   "version": "3.9.12"
  }
 },
 "nbformat": 4,
 "nbformat_minor": 5
}
